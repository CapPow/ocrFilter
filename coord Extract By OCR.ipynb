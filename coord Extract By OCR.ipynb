{
 "cells": [
  {
   "cell_type": "code",
   "execution_count": 2,
   "metadata": {},
   "outputs": [],
   "source": [
    "import pandas as pd\n",
    "import numpy as np\n",
    "import re\n",
    "import sys\n",
    "import os\n",
    "\n",
    "from PIL import Image\n",
    "from decimal import Decimal, setcontext, ExtendedContext\n",
    "import pytesseract as ocr\n",
    "import urllib.request\n",
    "import glob"
   ]
  },
  {
   "cell_type": "markdown",
   "metadata": {},
   "source": [
    "#### Left to add - The sanity check from gps range & state"
   ]
  },
  {
   "cell_type": "markdown",
   "metadata": {},
   "source": [
    "Load GPS Parser"
   ]
  },
  {
   "cell_type": "code",
   "execution_count": 3,
   "metadata": {},
   "outputs": [],
   "source": [
    "dms_parser_re = re.compile(r\"\"\"\\b\n",
    "    # Latitude direction, first position: one of N, S, NORTH, SOUTH\n",
    "    ((?P<latdir>NORTH|SOUTH|LAT|LAT\\.|LATITUDE|[NS])\\s?)?\n",
    "    # Latitude degrees: two digits 0-90\n",
    "    (?P<latdeg>([0-8][0-9])|90)\n",
    "    # Optional space, degree mark, period,\n",
    "    # or word separating degrees and minutes\n",
    "    (\\s|(?P<degmark>\\s?(º|°)?\\s?|(?P<degpd>\\.)|-|\\sDEGREES,\\s)\\s?)?\n",
    "    (?P<latminsec>\n",
    "    # Latitude minutes: two digits 0-59\n",
    "    (?P<latmin>([0-5]?[0-9]))\n",
    "    # If there was a degree mark before, look for punctuation after the minutes\n",
    "\n",
    "    (\\s|(?(degmark)('|\\\"|\\sMINUTES(,\\s)?)\\s?))?\n",
    "    (\n",
    "    # Latitude seconds: two digits\n",
    "    (\n",
    "    ((?(degpd)\\.?)(?P<latsec>(\\d{1,2})(?=\\d*)(\\.\\d*)))|\n",
    "    # Decimal fraction of minutes\n",
    "    (?P<latdecsec>\\.(\\d)+))?)\n",
    "    (\\s|(?(degmark)(\\\"|'|\\sSECONDS\\s)?))?\n",
    "    )?\n",
    "    # Latitude direction, second position, optionally preceded by a space\n",
    "    (\\s?(?P<latdir2>(?(latdir)|(NORTH|SOUTH|LAT|LAT\\.|LATITUDE|[NS]))))?\n",
    "    # Latitude/longitude delimiter: space, forward slash, comma, or none\n",
    "    (?<=\\s|\\d|\\\"|'|H|N|S)(?:[)(\\ /;:,]){0,2}\n",
    "    # Longitude direction, first position: one of E, W, EAST, WEST\n",
    "    (?(latdir)((?P<longdir>EAST|WEST|LON|LON\\.|LONG|LONGITUDE|[EW])\\s?))?\n",
    "    # Longitude degrees: two or three digits\n",
    "    (?P<longdeg>((1(([0-7][0-9]|80))|(0?[0-9][0-9]))))\n",
    "    # If there was a degree mark before, look for another one here\n",
    "    (\\s|(?(degmark)(\\s?(º|°)\\s?|\\.|-|\\sDEGREES,\\s)))?\n",
    "    (?(latminsec)   #Only look for minutes and seconds in the longitude\n",
    "    (?P<longminsec> #if they were there in the latitude\n",
    "    # Longitude minutes: two digits\n",
    "    (?P<longmin>([0-5]?[0-9]))\n",
    "    # If there was a degree mark before, look for punctuation after the minutes\n",
    "    (\\s|(?(degmark)('|\\\"|\\sMINUTES(,\\s)?)\\s?))?\n",
    "    # Longitude seconds: two digits\n",
    "    (\n",
    "    ((?(degpd)\\.?)(?P<longsec>(\\d{1,2})(?=\\d*)(\\.\\d*)))|\n",
    "    # Decimal fraction of minutes\n",
    "    (?P<longdecsec>\\.(\\d)+))?)\n",
    "    (\\s|(?(degmark)(\\\"|'|\\sSECONDS\\s)?))?\n",
    "    )\n",
    "    #Longitude direction, second position: optionally preceded by a space\n",
    "    (?(latdir)|\\s?(?P<longdir2>(EAST|WEST|LON|LON\\.|LONG|LONGITUDE|[EW])))?\n",
    "    \\b\n",
    "    \"\"\", re.VERBOSE | re.UNICODE | re.IGNORECASE)\n",
    "\n",
    "#dd_parser_re = re.compile(\n",
    "#        r\"\"\"\\b\n",
    "#        (?P<latdir1>NORTH|SOUTH|[NS])?\n",
    "#        (?P<decLat>-?\\d+\\.(?=\\d)\\d*)\n",
    "#        (?P<latdegmark>(º|°|\\*)?\\s?|-|\\sDEGREES,\\s)?\n",
    "#        (?P<latdir2>\\s?NORTH|SOUTH|[NS])?\n",
    "#        (?:\\s?[,:;°]?\\s?)?\n",
    "#        (?(latdir1)((?P<longdir1>EAST|WEST|[EW])\\ ?))?\n",
    "#        (?P<decLon>-?\\d*\\.(?=\\d)\\d*\\s?(?!\\s?.{0,2}(mi|km)))\n",
    "#        (?P<londegmark>(º|°|\\*)?\\s?|-|\\sDEGREES,\\s)?\n",
    "#        (?(latdir2)((?P<longdir2>EAST|WEST|[EW])))?\n",
    "#        \\b\"\"\", re.VERBOSE | re.UNICODE | re.IGNORECASE)\n",
    "\n",
    "dd_parser_re = re.compile(\n",
    "    r\"\"\"\\b\n",
    "    (?P<latdir1>(NORTH|SOUTH|LAT|LAT\\.|LATITUDE|[NS]))?\n",
    "    (?:\\s|\\:)*\n",
    "    (?P<decLat>(-|—)?\\d+\\.\\d{3,})\n",
    "    (?P<latdegmark>(º|°|\\*|\\s|-|\\sDEGREES,\\s))?\n",
    "    (?P<latdir2>\\s?(NORTH|SOUTH|LAT|LAT\\.|LATITUDE|[NS]))?\n",
    "    (?:\\s)?\n",
    "    (?:\\s?[,:;°/]?\\s?)?\n",
    "    (?(latdir1)((?P<longdir1>(EAST|WEST|LON|LON\\.|LONG|LONGITUDE|[EW]))\\s?))?\n",
    "    (?:\\s|\\:)*\n",
    "    (?P<decLon>(-|—)?\\d*\\.(?=\\d)\\d*\\s?(?!\\s?.{0,2}(mi|km)))\n",
    "    (?P<londegmark>(º|°|\\*)?\\s?|-|\\sDEGREES,\\s)?\n",
    "    (?(latdir2)((?P<longdir2>EAST|WEST|LON|LON\\.|LONG|LONGITUDE|[EW])))?\n",
    "    (?:\\s)?\n",
    "    \\b\"\"\", re.VERBOSE | re.UNICODE | re.IGNORECASE)\n",
    "\n",
    "\n",
    "\n",
    "def cleanup(parts):\n",
    "    \"\"\"\n",
    "    NOTICE! WILL have catastrophic failure if passed decimal degree format.\n",
    "    Normalize up the parts matched by :obj:`parser.parser_re` to\n",
    "    degrees, minutes, and seconds.\n",
    "    >>> _cleanup({'latdir': 'south', 'longdir': 'west',\n",
    "    ...          'latdeg':'60','latmin':'30',\n",
    "    ...          'longdeg':'50','longmin':'40'})\n",
    "    ['S', '60', '30', '00', 'W', '50', '40', '00']\n",
    "    >>> _cleanup({'latdir': 'south', 'longdir': 'west',\n",
    "    ...          'latdeg':'60','latmin':'30', 'latdecsec':'.50',\n",
    "    ...          'longdeg':'50','longmin':'40','longdecsec':'.90'})\n",
    "    ['S', '60', '30.50', '00', 'W', '50', '40.90', '00']\n",
    "    \"\"\"\n",
    "\n",
    "    try:\n",
    "        latdir = (parts['latdir'] or parts['latdir2']).upper()[0]\n",
    "        longdir = (parts['longdir'] or parts['longdir2']).upper()[0]\n",
    "    except AttributeError:\n",
    "        latdir, longdir = '', ''\n",
    "\n",
    "    latdeg = parts.get('latdeg')\n",
    "    longdeg = parts.get('longdeg')\n",
    "\n",
    "    latmin = parts.get('latmin', '00') or '00'\n",
    "    longmin = parts.get('longmin', '00') or '00'\n",
    "\n",
    "    latdecsec = parts.get('latdecsec', '')\n",
    "    longdecsec = parts.get('longdecsec', '')\n",
    "\n",
    "    if (latdecsec and longdecsec):\n",
    "        latmin += latdecsec\n",
    "        longmin += longdecsec\n",
    "        latsec = '00'\n",
    "        longsec = '00'\n",
    "    else:\n",
    "        latsec = parts.get('latsec', '') or '00'\n",
    "        longsec = parts.get('longsec', '') or '00'\n",
    "\n",
    "    return [latdir, latdeg, latmin, latsec, longdir, longdeg, longmin, longsec]\n",
    "\n",
    "\n",
    "def convert(latdir, latdeg, latmin, latsec, longdir, longdeg, longmin, longsec):\n",
    "    \"\"\"\n",
    "    Convert normalized degrees, minutes, and seconds to decimal degrees.\n",
    "    Quantize the converted value based on the input precision and\n",
    "    return a 2-tuple of strings.\n",
    "    >>> _convert('S','50','30','30','W','50','30','30')\n",
    "    ('-50.508333', '-50.508333')\n",
    "    >>> _convert('N','50','27','55','W','127','27','65')\n",
    "    ('50.459167', '-127.460833')\n",
    "    \"\"\"\n",
    "    \n",
    "    if (latsec != '00' or longsec != '00'):\n",
    "        precision = Decimal('0.000001')\n",
    "    elif (latmin != '00' or longmin != '00'):\n",
    "        precision = Decimal('0.001')\n",
    "    else:\n",
    "        precision = Decimal('1')\n",
    "\n",
    "    latitude = Decimal(latdeg)\n",
    "    latmin = Decimal(latmin)\n",
    "    latsec = Decimal(latsec)\n",
    "\n",
    "    longitude = Decimal(longdeg)\n",
    "    longmin = Decimal(longmin)\n",
    "    longsec = Decimal(longsec)\n",
    "\n",
    "    if latsec > 59 or longsec > 59:\n",
    "        #Assume that 'seconds' greater than 59 are actually a decimal\n",
    "        #fraction of minutes\n",
    "        latitude += (latmin +\n",
    "                     (latsec / Decimal('100'))) / Decimal('60')\n",
    "        longitude += (longmin +\n",
    "                  (longsec / Decimal('100'))) / Decimal('60')\n",
    "    else:\n",
    "        latitude += (latmin +\n",
    "                     (latsec / Decimal('60'))) / Decimal('60')\n",
    "        longitude += (longmin +\n",
    "                      (longsec / Decimal('60'))) / Decimal('60')\n",
    "\n",
    "    if latdir == 'S':\n",
    "        latitude *= Decimal('-1')\n",
    "\n",
    "    if longdir == 'W':\n",
    "        longitude *= Decimal('-1')\n",
    "\n",
    "    lat_str = str(latitude.quantize(precision))\n",
    "    long_str = str(longitude.quantize(precision))\n",
    "\n",
    "    return (lat_str, long_str)\n",
    "\n",
    "def parseDMS(s):\n",
    "    matches = dms_parser_re.finditer(s)\n",
    "    results = []\n",
    "    for match in matches:\n",
    "        dms = cleanup(match.groupdict())\n",
    "        results.append(convert(*dms))\n",
    "    matches = [e for l in results for e in l]\n",
    "    \n",
    "    if matches:\n",
    "        if len(matches) == 2:\n",
    "            lat, lon = matches\n",
    "            return lat, lon\n",
    "    \n",
    "    return None\n",
    "\n",
    "def extractDD(s):\n",
    "    ''' extract decimal degree coords attempt to wrangle them into [lat,lon] as decimal degrees'''\n",
    "    #s = re.sub(r'\\s+', ' ', s ) # convert duplicate spaces into single \n",
    "    matches = dd_parser_re.finditer(s)\n",
    "    results = []\n",
    "    for match in matches:\n",
    "        parts = match.groupdict()\n",
    "        ddLat = float(parts.get('decLat', '') or '00')\n",
    "        ddLon = float(parts.get('decLon', '') or '00')\n",
    "        # if we harvested the directionality, then use them to try and clean the coords up.\n",
    "        try:\n",
    "            latdir = (parts['latdir1'] or parts['latdir2']).upper()[0]\n",
    "            longdir = (parts['longdir1'] or parts['longdir2']).upper()[0]\n",
    "        except AttributeError:\n",
    "            latdir, longdir = '', ''\n",
    "\n",
    "        if (latdir == 'N') & (ddLat < 0):\n",
    "            ddLat = abs(ddLat)\n",
    "        elif (latdir == 'S') & (ddLat > 0):\n",
    "            ddLat = -ddLat\n",
    "\n",
    "        if (longdir == 'E') & (ddLon < 0):\n",
    "            ddLon = abs(ddLon)\n",
    "        elif (longdir == 'W') & (ddLon > 0):\n",
    "            ddLon = -ddLon\n",
    "        \n",
    "        results.append((str(ddLat), str(ddLon)))\n",
    "    \n",
    "    matches = [e for l in results for e in l]\n",
    "    \n",
    "    if matches:\n",
    "        if len(matches) == 2:\n",
    "            lat, lon = matches\n",
    "            return lat, lon\n",
    "    return None\n",
    "       \n",
    "\n",
    "        #results.append((ddLat,ddLon))\n",
    "    #matches = [e for l in results for e in l]\n",
    "        \n",
    "    # make sure we ended up with 2 values.\n",
    "    \n",
    "   #return lat, lon\n",
    " \n",
    "def parseGPS(s):\n",
    "#    lines = [x.strip() for x in s.splitlines()]\n",
    "#    results = []\n",
    "#    for line in lines:\n",
    "    result = extractDD(s)\n",
    "    #result = parseDMS(s)\n",
    "    if result != None:\n",
    "#            results.append(result)\n",
    "        return result\n",
    "    else:\n",
    "        result = parseDMS(s)\n",
    "        #result = extractDD(s)\n",
    "        if result != None:\n",
    "#                results.append(result)\n",
    "            return result\n",
    "#        if result:\n",
    "        #result = max(results, key=len)\n",
    "#            return result\n",
    "\n",
    "    return None"
   ]
  },
  {
   "cell_type": "markdown",
   "metadata": {},
   "source": [
    "image download"
   ]
  },
  {
   "cell_type": "code",
   "execution_count": null,
   "metadata": {},
   "outputs": [],
   "source": [
    "\n",
    "\n",
    "#NOTE: Download the query results with UTM-8 encoding.#\n",
    "###########Note############\n",
    "#This script was made to let a researcher access all the images from a query locally.\n",
    "#This script downloads ALL images in the csv to the working directory (in place)\n",
    "#the files images.csv and occurrences.csv must be present in the folder in which\n",
    "#this script is run. Those files are bundled with a Symbiota format query csv download\n",
    "###########################\n",
    "\n",
    "imgCSV = pd.read_csv(\"images.csv\",encoding='utf-8')\n",
    "occCSV = pd.read_csv(\"occurrences.csv\",encoding='utf-8')\n",
    "occCSV = occCSV.merge(imgCSV,left_on = 'id',right_on='coreid', how = 'inner')\n",
    "\n",
    "try:\n",
    "    for index, row in occCSV.sample(30).iterrows():\n",
    "        if row['catalogNumber'].isnumeric():\n",
    "            recordID = str(row['institutionCode']+row['catalogNumber'])\n",
    "        else:\n",
    "            recordID = row['catalogNumber']\n",
    "        fileName = './images/{}.jpg'.format(recordID)\n",
    "        url = row['accessURI']\n",
    "        urllib.request.urlretrieve(url, fileName)\n",
    "except:\n",
    "    print('Problem at {}, skipping it'.format(fileName))\n",
    "    pass\n"
   ]
  },
  {
   "cell_type": "markdown",
   "metadata": {},
   "source": [
    "OCR Image analysis"
   ]
  },
  {
   "cell_type": "markdown",
   "metadata": {},
   "source": [
    "Using accuracy training data from:\n",
    "https://github.com/tesseract-ocr/tessdata_best/blob/master/eng.traineddata\n"
   ]
  },
  {
   "cell_type": "code",
   "execution_count": 3,
   "metadata": {
    "scrolled": false
   },
   "outputs": [],
   "source": [
    "df = pd.DataFrame(columns = ['catalogNumber', 'rawOCR','decimalLatitude', 'decimalLongitude','verbatimCoordinates'])\n",
    "\n",
    "images = glob.glob('./images/*jpg')\n",
    "# a list of known, necessary replacements after ocr, ahead of regex\n",
    "replacements = {'—':'-'}\n",
    "\n",
    "for fileName in images:\n",
    "    img = Image.open(fileName)\n",
    "    #rawOcr = ocr.image_to_string(img, lang='eng')\n",
    "    rawOcr = os.linesep.join([s for s in ocr.image_to_string(img, lang='eng').splitlines() if s])\n",
    "    for key,val in replacements.items():\n",
    "        rawOcr = rawOcr.replace(key,val)\n",
    "    catalogNumber = os.path.basename(fileName).replace('.jpg','')\n",
    "    rowData = pd.Series({'catalogNumber':catalogNumber, 'rawOCR':rawOcr})\n",
    "    df = df.append(rowData,ignore_index=True)\n",
    "\n",
    "df['verbatimCoordinates'] = df['rawOCR'].transform(parseGPS)\n",
    "df = df.fillna('')\n",
    "df[['decimalLatitude', 'decimalLongitude']] = df['verbatimCoordinates'].apply(pd.Series)"
   ]
  },
  {
   "cell_type": "code",
   "execution_count": 4,
   "metadata": {
    "scrolled": false
   },
   "outputs": [
    {
     "data": {
      "text/html": [
       "<div>\n",
       "<style scoped>\n",
       "    .dataframe tbody tr th:only-of-type {\n",
       "        vertical-align: middle;\n",
       "    }\n",
       "\n",
       "    .dataframe tbody tr th {\n",
       "        vertical-align: top;\n",
       "    }\n",
       "\n",
       "    .dataframe thead th {\n",
       "        text-align: right;\n",
       "    }\n",
       "</style>\n",
       "<table border=\"1\" class=\"dataframe\">\n",
       "  <thead>\n",
       "    <tr style=\"text-align: right;\">\n",
       "      <th></th>\n",
       "      <th>catalogNumber</th>\n",
       "      <th>rawOCR</th>\n",
       "      <th>decimalLatitude</th>\n",
       "      <th>decimalLongitude</th>\n",
       "      <th>verbatimCoordinates</th>\n",
       "    </tr>\n",
       "  </thead>\n",
       "  <tbody>\n",
       "    <tr>\n",
       "      <th>0</th>\n",
       "      <td>TENN-V-0015524</td>\n",
       "      <td>UNNERﬂTYOFTENNESSEEKNUXVHLE\\nrmumugmmwwwwwWWI»...</td>\n",
       "      <td>19</td>\n",
       "      <td>75</td>\n",
       "      <td>(19, 75)</td>\n",
       "    </tr>\n",
       "    <tr>\n",
       "      <th>1</th>\n",
       "      <td>MTSU000623</td>\n",
       "      <td>County:\\nDet:\\nColl.:\\n5 6 7 8 9\\nPLANTS OF TE...</td>\n",
       "      <td>19</td>\n",
       "      <td>79</td>\n",
       "      <td>(19, 79)</td>\n",
       "    </tr>\n",
       "    <tr>\n",
       "      <th>2</th>\n",
       "      <td>TENN-V-0015470</td>\n",
       "      <td>UNIVERSITY OF TENNESSEE KNOX IL\\n1|MLLlLlJlﬂl_...</td>\n",
       "      <td></td>\n",
       "      <td>NaN</td>\n",
       "      <td></td>\n",
       "    </tr>\n",
       "    <tr>\n",
       "      <th>3</th>\n",
       "      <td>HTTU000727</td>\n",
       "      <td>Herbarium\\nTennessee Technological University\\...</td>\n",
       "      <td></td>\n",
       "      <td>NaN</td>\n",
       "      <td></td>\n",
       "    </tr>\n",
       "    <tr>\n",
       "      <th>4</th>\n",
       "      <td>ETSU001292</td>\n",
       "      <td>J Hezbullni EAST TENNESSEE STATE UNIVERSITY\\n”...</td>\n",
       "      <td>44</td>\n",
       "      <td>31</td>\n",
       "      <td>(44, 31)</td>\n",
       "    </tr>\n",
       "    <tr>\n",
       "      <th>5</th>\n",
       "      <td>MTSU000631</td>\n",
       "      <td>4 5 6 7 8 9 10\\n3 ' sonmm\\n2NEC Digitization P...</td>\n",
       "      <td></td>\n",
       "      <td>NaN</td>\n",
       "      <td></td>\n",
       "    </tr>\n",
       "    <tr>\n",
       "      <th>6</th>\n",
       "      <td>UCHT003473</td>\n",
       "      <td>SERNEC Digitization Projé\" -Tehne§se§ Heriggri...</td>\n",
       "      <td></td>\n",
       "      <td>NaN</td>\n",
       "      <td></td>\n",
       "    </tr>\n",
       "    <tr>\n",
       "      <th>7</th>\n",
       "      <td>ETSU001290</td>\n",
       "      <td>EAST TENNESSEE STATE UNIVERSIT\\nl1111111111111...</td>\n",
       "      <td></td>\n",
       "      <td>NaN</td>\n",
       "      <td></td>\n",
       "    </tr>\n",
       "    <tr>\n",
       "      <th>8</th>\n",
       "      <td>UCHT003483</td>\n",
       "      <td>UNIVERSITYT OTF TENNESSEE\\nl|)|‘$\\||||NIHlﬂlll...</td>\n",
       "      <td></td>\n",
       "      <td>NaN</td>\n",
       "      <td></td>\n",
       "    </tr>\n",
       "    <tr>\n",
       "      <th>9</th>\n",
       "      <td>TENN-V-0015442</td>\n",
       "      <td>UNIVERSITY OF TENNESSEE KNOXVILLE\\n1111(ijWlml...</td>\n",
       "      <td></td>\n",
       "      <td>NaN</td>\n",
       "      <td></td>\n",
       "    </tr>\n",
       "    <tr>\n",
       "      <th>10</th>\n",
       "      <td>TENN-V-0015493</td>\n",
       "      <td>UNIVERSITY OFTENNESE KNOX llE\\n_ mumuwmxmm\\nim...</td>\n",
       "      <td>54</td>\n",
       "      <td>93</td>\n",
       "      <td>(54, 93)</td>\n",
       "    </tr>\n",
       "    <tr>\n",
       "      <th>11</th>\n",
       "      <td>TENN-V-0015457</td>\n",
       "      <td>.) 1:51.“\\nUNIVERSITY OF IENNESSEE KNOXVILLE\\n...</td>\n",
       "      <td>15</td>\n",
       "      <td>93</td>\n",
       "      <td>(15, 93)</td>\n",
       "    </tr>\n",
       "    <tr>\n",
       "      <th>12</th>\n",
       "      <td>UCHT006168</td>\n",
       "      <td>umvmsnv or 75\\nAr cmxmmo’tgggsmE\\nNIM/l/IIl/l/...</td>\n",
       "      <td>19</td>\n",
       "      <td>86</td>\n",
       "      <td>(19, 86)</td>\n",
       "    </tr>\n",
       "    <tr>\n",
       "      <th>13</th>\n",
       "      <td>TENN-V-0015440</td>\n",
       "      <td>UNIVERSIIY OF TENNESSEE KNOXVILLE\\n\\\\WnNITWIEN...</td>\n",
       "      <td></td>\n",
       "      <td>NaN</td>\n",
       "      <td></td>\n",
       "    </tr>\n",
       "    <tr>\n",
       "      <th>14</th>\n",
       "      <td>MTSU000649</td>\n",
       "      <td>2 3\\nSERNEC Digitizati:n Pro]: t T 6 7 8 9 10 ...</td>\n",
       "      <td>11</td>\n",
       "      <td>26</td>\n",
       "      <td>(11, 26)</td>\n",
       "    </tr>\n",
       "    <tr>\n",
       "      <th>15</th>\n",
       "      <td>MTSU000617</td>\n",
       "      <td>R IOII ‘ I II” M I 0 - I O I ll\\nSE NEC Dlgltl...</td>\n",
       "      <td></td>\n",
       "      <td>NaN</td>\n",
       "      <td></td>\n",
       "    </tr>\n",
       "    <tr>\n",
       "      <th>16</th>\n",
       "      <td>MTSU000663</td>\n",
       "      <td>s\\n8 9 1o\\n \\nlllllll- -- 6 7\\n- 2 3 4 5\\n1\\no...</td>\n",
       "      <td></td>\n",
       "      <td>NaN</td>\n",
       "      <td></td>\n",
       "    </tr>\n",
       "    <tr>\n",
       "      <th>17</th>\n",
       "      <td>TENN-V-0015452</td>\n",
       "      <td>VERSITY OF TENNESSEE KNOXVILLE\\nIMWMW Wugmwswz...</td>\n",
       "      <td>16</td>\n",
       "      <td>30</td>\n",
       "      <td>(16, 30)</td>\n",
       "    </tr>\n",
       "    <tr>\n",
       "      <th>18</th>\n",
       "      <td>ETSU001282</td>\n",
       "      <td>thn C. Warden Herbarium\\nEast Tennessee State ...</td>\n",
       "      <td></td>\n",
       "      <td>NaN</td>\n",
       "      <td></td>\n",
       "    </tr>\n",
       "    <tr>\n",
       "      <th>19</th>\n",
       "      <td>MTSU000664</td>\n",
       "      <td>8 9\\n \\n   \\nmum- ---- -\\n0 1 2 3 4 5 6 7 _\\n ...</td>\n",
       "      <td></td>\n",
       "      <td>NaN</td>\n",
       "      <td></td>\n",
       "    </tr>\n",
       "    <tr>\n",
       "      <th>20</th>\n",
       "      <td>HTTU018694</td>\n",
       "      <td>PLANTS OF TENNESSEE\\nPinacaceae\\nTsuga canaden...</td>\n",
       "      <td>36.1019</td>\n",
       "      <td>85.3013</td>\n",
       "      <td>(36.1019, 85.3013)</td>\n",
       "    </tr>\n",
       "    <tr>\n",
       "      <th>21</th>\n",
       "      <td>TENN-V-0015469</td>\n",
       "      <td>Ill W! W! WI!\\nUNIVEHill’TY OF TENNESSEE KN?) ...</td>\n",
       "      <td></td>\n",
       "      <td>NaN</td>\n",
       "      <td></td>\n",
       "    </tr>\n",
       "    <tr>\n",
       "      <th>22</th>\n",
       "      <td>HTTU000729</td>\n",
       "      <td>Herbarium\\nTennessee Technological University\\...</td>\n",
       "      <td>76</td>\n",
       "      <td>58</td>\n",
       "      <td>(76, 58)</td>\n",
       "    </tr>\n",
       "    <tr>\n",
       "      <th>23</th>\n",
       "      <td>TENN-V-0015438</td>\n",
       "      <td>UNIVERSITY OF IENNESSEE KN XVIL E\\nuw“Wlmmummﬂ...</td>\n",
       "      <td></td>\n",
       "      <td>NaN</td>\n",
       "      <td></td>\n",
       "    </tr>\n",
       "    <tr>\n",
       "      <th>24</th>\n",
       "      <td>TENN-V-0015528</td>\n",
       "      <td>\\\\nUNN RSlTY 0F TENNE SEE KNOXVlLLE\\n\\\\\\\\\\\\\\\\\\...</td>\n",
       "      <td></td>\n",
       "      <td>NaN</td>\n",
       "      <td></td>\n",
       "    </tr>\n",
       "    <tr>\n",
       "      <th>25</th>\n",
       "      <td>SWMT00281</td>\n",
       "      <td>RHODES COLLEGE\\nllllﬂllllllﬂllﬂliﬂlﬂilollﬂj|jH...</td>\n",
       "      <td>72</td>\n",
       "      <td>47</td>\n",
       "      <td>(72, 47)</td>\n",
       "    </tr>\n",
       "    <tr>\n",
       "      <th>26</th>\n",
       "      <td>MTSU000669</td>\n",
       "      <td>9 10\\n- l ortium\\n$1431ng 01‘\\n \\nMIDDLE TENNE...</td>\n",
       "      <td>10</td>\n",
       "      <td>0</td>\n",
       "      <td>(10, 0)</td>\n",
       "    </tr>\n",
       "    <tr>\n",
       "      <th>27</th>\n",
       "      <td>ETSU001291</td>\n",
       "      <td>EASTTENNESSEESTAIEUNWERSHY\\nlHIINWIIIIWllNlUﬂl...</td>\n",
       "      <td>19</td>\n",
       "      <td>83</td>\n",
       "      <td>(19, 83)</td>\n",
       "    </tr>\n",
       "    <tr>\n",
       "      <th>28</th>\n",
       "      <td>ETSU001287</td>\n",
       "      <td>EAST TENNESSEE STATE UNIVEH\\nImmumuammwmmummy:...</td>\n",
       "      <td></td>\n",
       "      <td>NaN</td>\n",
       "      <td></td>\n",
       "    </tr>\n",
       "    <tr>\n",
       "      <th>29</th>\n",
       "      <td>ETSU001294</td>\n",
       "      <td>EAST TENNESSEE STATE UNNERSHY 30 8 (a\\n\\\\\\\\\\\\\\...</td>\n",
       "      <td>15</td>\n",
       "      <td>91</td>\n",
       "      <td>(15, 91)</td>\n",
       "    </tr>\n",
       "  </tbody>\n",
       "</table>\n",
       "</div>"
      ],
      "text/plain": [
       "     catalogNumber                                             rawOCR  \\\n",
       "0   TENN-V-0015524  UNNERﬂTYOFTENNESSEEKNUXVHLE\\nrmumugmmwwwwwWWI»...   \n",
       "1       MTSU000623  County:\\nDet:\\nColl.:\\n5 6 7 8 9\\nPLANTS OF TE...   \n",
       "2   TENN-V-0015470  UNIVERSITY OF TENNESSEE KNOX IL\\n1|MLLlLlJlﬂl_...   \n",
       "3       HTTU000727  Herbarium\\nTennessee Technological University\\...   \n",
       "4       ETSU001292  J Hezbullni EAST TENNESSEE STATE UNIVERSITY\\n”...   \n",
       "5       MTSU000631  4 5 6 7 8 9 10\\n3 ' sonmm\\n2NEC Digitization P...   \n",
       "6       UCHT003473  SERNEC Digitization Projé\" -Tehne§se§ Heriggri...   \n",
       "7       ETSU001290  EAST TENNESSEE STATE UNIVERSIT\\nl1111111111111...   \n",
       "8       UCHT003483  UNIVERSITYT OTF TENNESSEE\\nl|)|‘$\\||||NIHlﬂlll...   \n",
       "9   TENN-V-0015442  UNIVERSITY OF TENNESSEE KNOXVILLE\\n1111(ijWlml...   \n",
       "10  TENN-V-0015493  UNIVERSITY OFTENNESE KNOX llE\\n_ mumuwmxmm\\nim...   \n",
       "11  TENN-V-0015457  .) 1:51.“\\nUNIVERSITY OF IENNESSEE KNOXVILLE\\n...   \n",
       "12      UCHT006168  umvmsnv or 75\\nAr cmxmmo’tgggsmE\\nNIM/l/IIl/l/...   \n",
       "13  TENN-V-0015440  UNIVERSIIY OF TENNESSEE KNOXVILLE\\n\\\\WnNITWIEN...   \n",
       "14      MTSU000649  2 3\\nSERNEC Digitizati:n Pro]: t T 6 7 8 9 10 ...   \n",
       "15      MTSU000617  R IOII ‘ I II” M I 0 - I O I ll\\nSE NEC Dlgltl...   \n",
       "16      MTSU000663  s\\n8 9 1o\\n \\nlllllll- -- 6 7\\n- 2 3 4 5\\n1\\no...   \n",
       "17  TENN-V-0015452  VERSITY OF TENNESSEE KNOXVILLE\\nIMWMW Wugmwswz...   \n",
       "18      ETSU001282  thn C. Warden Herbarium\\nEast Tennessee State ...   \n",
       "19      MTSU000664  8 9\\n \\n   \\nmum- ---- -\\n0 1 2 3 4 5 6 7 _\\n ...   \n",
       "20      HTTU018694  PLANTS OF TENNESSEE\\nPinacaceae\\nTsuga canaden...   \n",
       "21  TENN-V-0015469  Ill W! W! WI!\\nUNIVEHill’TY OF TENNESSEE KN?) ...   \n",
       "22      HTTU000729  Herbarium\\nTennessee Technological University\\...   \n",
       "23  TENN-V-0015438  UNIVERSITY OF IENNESSEE KN XVIL E\\nuw“Wlmmummﬂ...   \n",
       "24  TENN-V-0015528  \\\\nUNN RSlTY 0F TENNE SEE KNOXVlLLE\\n\\\\\\\\\\\\\\\\\\...   \n",
       "25       SWMT00281  RHODES COLLEGE\\nllllﬂllllllﬂllﬂliﬂlﬂilollﬂj|jH...   \n",
       "26      MTSU000669  9 10\\n- l ortium\\n$1431ng 01‘\\n \\nMIDDLE TENNE...   \n",
       "27      ETSU001291  EASTTENNESSEESTAIEUNWERSHY\\nlHIINWIIIIWllNlUﬂl...   \n",
       "28      ETSU001287  EAST TENNESSEE STATE UNIVEH\\nImmumuammwmmummy:...   \n",
       "29      ETSU001294  EAST TENNESSEE STATE UNNERSHY 30 8 (a\\n\\\\\\\\\\\\\\...   \n",
       "\n",
       "   decimalLatitude decimalLongitude verbatimCoordinates  \n",
       "0               19               75            (19, 75)  \n",
       "1               19               79            (19, 79)  \n",
       "2                               NaN                      \n",
       "3                               NaN                      \n",
       "4               44               31            (44, 31)  \n",
       "5                               NaN                      \n",
       "6                               NaN                      \n",
       "7                               NaN                      \n",
       "8                               NaN                      \n",
       "9                               NaN                      \n",
       "10              54               93            (54, 93)  \n",
       "11              15               93            (15, 93)  \n",
       "12              19               86            (19, 86)  \n",
       "13                              NaN                      \n",
       "14              11               26            (11, 26)  \n",
       "15                              NaN                      \n",
       "16                              NaN                      \n",
       "17              16               30            (16, 30)  \n",
       "18                              NaN                      \n",
       "19                              NaN                      \n",
       "20         36.1019          85.3013  (36.1019, 85.3013)  \n",
       "21                              NaN                      \n",
       "22              76               58            (76, 58)  \n",
       "23                              NaN                      \n",
       "24                              NaN                      \n",
       "25              72               47            (72, 47)  \n",
       "26              10                0             (10, 0)  \n",
       "27              19               83            (19, 83)  \n",
       "28                              NaN                      \n",
       "29              15               91            (15, 91)  "
      ]
     },
     "metadata": {},
     "output_type": "display_data"
    }
   ],
   "source": [
    "display(df)\n"
   ]
  },
  {
   "cell_type": "code",
   "execution_count": 5,
   "metadata": {},
   "outputs": [],
   "source": [
    "df.to_csv('output.csv', encoding = 'utf-8', index = False)"
   ]
  },
  {
   "cell_type": "code",
   "execution_count": null,
   "metadata": {},
   "outputs": [],
   "source": []
  },
  {
   "cell_type": "code",
   "execution_count": 6,
   "metadata": {
    "scrolled": false
   },
   "outputs": [
    {
     "data": {
      "text/plain": [
       "\"UNNERﬂTYOFTENNESSEEKNUXVHLErmumugmmwwwwwWWI»  PLANTS OF OHIO 9.12m“? ‘30 IIERBARIUDI OF OBERLIN COLLEGETsuga cahadensis (Lo) Carrin mixed woods near streamWooster Memorial Park, Plain Twp.March 11, 1975 «CML George T. Jones3 4 5 6 7 ' 8 1oSERNEC Digitization Project - Tennessee Herbarium Consortium\""
      ]
     },
     "metadata": {},
     "output_type": "display_data"
    },
    {
     "data": {
      "text/plain": [
       "('19', '75')"
      ]
     },
     "metadata": {},
     "output_type": "display_data"
    },
    {
     "data": {
      "text/plain": [
       "'County:Det:Coll.:5 6 7 8 9PLANTS OF TENNESSEERuther§ord Date: 3 Dec 1979PinaceaeTsuga canadensis L.Eastern Hemlock@ $5 yds S.E. Student UnionBulld. MTSU Campus@ 5\" DBH @ 27\\' HeightWMPWMPODath 1*83 1N10F¢ﬁ cogg 10 i lui“. n n ro\\'ect - Tennessee Herbarium Consortium J MIDDLETENNESSEESTATE UNIVERSITYHII‘IIWIIWHIWIHIIW||ﬂL|ﬂ|ljlljlllWHlllMTSUOO'"
      ]
     },
     "metadata": {},
     "output_type": "display_data"
    },
    {
     "data": {
      "text/plain": [
       "('19', '79')"
      ]
     },
     "metadata": {},
     "output_type": "display_data"
    },
    {
     "data": {
      "text/plain": [
       "'UNIVERSITY OF TENNESSEE KNOX IL1|MLLlLlJlﬂl_|lﬂU1lUL|lt1UMmm\\\\,/‘_. ._ r r7“, ’7\".‘”‘T.‘\"1 ‘ .J,-u.1;4-‘1       ~ ~ ‘ ~ V. ., 1-,, - ,. M, + x:Lgncu Amer ufccdcf L\\\\L;&CvOI‘ b;h:- / “7\\'31!\" A\\'ﬁ mﬁﬁp,‘ﬁ\\'-1ﬁ m--~mm---------0 1 2 3 4 5 5 7 \\' 8 910cmSERNEC Digitization Project - Tennessee Herbarium Consortium'"
      ]
     },
     "metadata": {},
     "output_type": "display_data"
    },
    {
     "data": {
      "text/plain": [
       "''"
      ]
     },
     "metadata": {},
     "output_type": "display_data"
    },
    {
     "data": {
      "text/plain": [
       "'HerbariumTennessee Technological UniversityPlants ofTsuga canadensis (L) Carr.#65” HERBARIUMp4‘ , , _ Spring Creek, ca. 1.0 mi. N. of Cookeville.LTENNESSEE TtCﬁNU-LGa‘lzi’AL ?SO\\'-9SO\\' elevation. hO‘ tall. Woody, rockv,UNIVERSE” tank just above creek.IENNESSEE TECHNOLOGICAL UNIVERSITYI\"I‘ll!IWIIMINIWINIIWIWIWHIHUHHIIIIll! Wm 1‘HTTU000727 K.L. French, 3. I\\'»\\'£cIn.turff, S. P/Iankikar~11 , - 2.4,:mrzh:2 3 4 5 6 7 8 9 10SERNEC Digitization Project - Tennessee Herbarium Consortium'"
      ]
     },
     "metadata": {},
     "output_type": "display_data"
    },
    {
     "data": {
      "text/plain": [
       "''"
      ]
     },
     "metadata": {},
     "output_type": "display_data"
    },
    {
     "data": {
      "text/plain": [
       "'J Hezbullni EAST TENNESSEE STATE UNIVERSITY”79\" Ull/lllllllllHilllliltlilﬂlwljllﬂlﬂlﬁﬂlWWIIllllETSU   I’Fx/m-Lg- At-Plants of lﬁ »w5_=,;wI. ! J v i 1 \\\\:V Q \\\\4h .1 I“ G ‘.v ?,T /h”7J .4 ﬂ i/y‘ / 4 Ap”JV, : w.L Q LEL‘ v _ ‘ (L )(44:31 A v .. :I‘Det: ,L11L;\\'~ L J Vf‘4 6 7 8SERNEC Digitizgtion Projecnt - Tennessee Herbarium Consortium9 10'"
      ]
     },
     "metadata": {},
     "output_type": "display_data"
    },
    {
     "data": {
      "text/plain": [
       "('44', '31')"
      ]
     },
     "metadata": {},
     "output_type": "display_data"
    },
    {
     "data": {
      "text/plain": [
       "'4 5 6 7 8 9 103 \\' sonmm2NEC Digitization Project - Tennessee Herbarlum ConSER MIDDLE TENNESSEEATE UNIVE lIr11mmx/ImI/x/m/mI MIMI»MTSU000631  , ”714/ ‘ﬂ/QH/f; if” f/C’ll/IUC’SIC’C‘ /‘727\\' 741/ @e wry, xvs/ﬁzz le’r w, 7 \\\\ﬂ\\'zucnic‘ic‘f 5/ ’ 7 L ,\"2/3“qu Ccv/c’aa/(E/L/J/J\\' (L) C,¢7rr/.\\' ‘ /<52752161711 ﬂﬂn\\'x/er , .L a 5/” \\' €67: K/O ‘2/c7// . .06/71 m / ’ / / 7-JJ/’» 6(I/ra‘/Jauf/Izcldifﬂc7rwév/ ryf 55\"“ r’!’ {7 b /Umaxm , éaaf/ziaw u z’, w pm, W .Dgn) F. q MLUA/,Dc‘f\" ,’ 13/:3'"
      ]
     },
     "metadata": {},
     "output_type": "display_data"
    },
    {
     "data": {
      "text/plain": [
       "''"
      ]
     },
     "metadata": {},
     "output_type": "display_data"
    },
    {
     "data": {
      "text/plain": [
       "'SERNEC Digitization Projé\" -Tehne§se§ Heriggrium ConsortiumUCHTUNIVERSITY OF TENNESSEEII/I/xﬁl/M/mliﬂiﬂiW/iﬁﬁwll73 iacM/HHerbarium of the University of Tennessee at ChattanoogaTsuga cangdensis (L.) Carr.North on Hwy127 towards Signal Mtn. Leftat the‘first stop light. North to Timber~links Drive. North on Timberlinks toan unmarked foot trail. West on Trail toa tributary of Short Creek. Followtributary to Short Creek. Specmmen foundin the riparian habitat of Short Creek inPrentice Cooper State Forest.Tree to 15m tall.Hamilton Co., Tennessee Elev.ca.1560ft,John Beck# 3053 15 March 1999Voucher specimen.3 .4\\' _‘5¥.,.'"
      ]
     },
     "metadata": {},
     "output_type": "display_data"
    },
    {
     "data": {
      "text/plain": [
       "''"
      ]
     },
     "metadata": {},
     "output_type": "display_data"
    },
    {
     "data": {
      "text/plain": [
       "'EAST TENNESSEE STATE UNIVERSITl11111111111111111111111111111111111TSUOO129O 1 , \"I/\". ,,. _‘ ‘j {‘,,PLAN’T’S OF EAST TENNE§SEETsuga Canadensis (L.) Carr.PinaceaeJohnson City, Washington County, TN4137 Bristol Highway Wing Deer ParkLocated in a highly shaded and forestedarea, right off the path ofHemlock Loop1600 ftTree, upright, 30’ tall, 2’ in diameter,bark very dark and rough,leaves are needles that are ﬂatJohn C. Warden Herbarium which are white underneathETSU #13\\'0280 EISU John William Poston Collection #185/25/2010 Det. J ohn William Poston...,o _ 1 2 3 4 5 5 7 3 9 1o *9cm SERNEC Digitization Project - Tennessee Herbarium Consortium l...'"
      ]
     },
     "metadata": {},
     "output_type": "display_data"
    },
    {
     "data": {
      "text/plain": [
       "''"
      ]
     },
     "metadata": {},
     "output_type": "display_data"
    },
    {
     "data": {
      "text/plain": [
       "\"UNIVERSITYT OTF TENNESSEEl|)|‘$\\\\||||NIHlﬂlllﬂlllﬂl|N||W1|ﬁ||H|l|HM*lllUCHTO    L'm\\\\ c1511) (If lcnnhxcc. Clhl[[;mki<l:_‘;l' SIIIJcIIL CUIICCUL‘HStale TN: ILImIlImI (RunnyFamily: Pinuceue‘IAIrg’cz a‘uIIuI/wzm ll,. I CLlITlt‘I‘CLWLIIIUII: (‘IIcen (imge Pﬂlx ulnam l/«V mile um rmil. Signal MmunmmDar: 15-ApIIl-21JIHColic ClC'l 1):\\\\{1c Km(V‘olleclion number: 66 ’ SERNEC Digitization PI'ojé ,7 - Tennessee {rbarium Consortium\""
      ]
     },
     "metadata": {},
     "output_type": "display_data"
    },
    {
     "data": {
      "text/plain": [
       "''"
      ]
     },
     "metadata": {},
     "output_type": "display_data"
    },
    {
     "data": {
      "text/plain": [
       "\"UNIVERSITY OF TENNESSEE KNOXVILLE1111(ijWlmlwlwwWinnwNTennessee mﬁﬁﬁ- +Plnaceae égllllllTsuga canadensis (L.) Carr.ggéﬁlm C9 Less than 1m tall; growing on shady bench in pine litter‘W, of 19-20-year Old abandoned contour surface minelocated between State Rt 63 west and Interstate 75;about 1.9 m1 north of exit 141 on I-75, off the west sideof the interstate. Along with P. Virginiana and O.arboreum. -‘ -Co. Campbell Elev.1750'Coll. Barbara L. Rafaill No. 674 Date19 July, 1983With L. R. StritchILIILlll-l-E-E-o 1 2 3 4 5 5- 7 I8 9 10SERNEC Digitization Project - Tennessee Herbarium Consortiumcm\""
      ]
     },
     "metadata": {},
     "output_type": "display_data"
    },
    {
     "data": {
      "text/plain": [
       "''"
      ]
     },
     "metadata": {},
     "output_type": "display_data"
    },
    {
     "data": {
      "text/plain": [
       "'UNIVERSITY OFTENNESE KNOX llE_ mumuwmxmmimwmI IIWilli”!!!TENN-V-OOw; mii/mu549317PLANTS OFR.,$%chron_ A .\"fﬁ:alutﬁhrz COUNTY FL; JUlV 19 4:93k;5§§e...‘.1 , O: {T \\\\ ﬁ‘ )\"1Tsupa canauenu;s \\\\u.) uari.w 7“; ww,w~Above nampLuu, QLULLaoklng.Laurel Organ,mixed with ¢.Over-growihgcalmnll:1iau1a. 11HI---MILlﬂ-l-EI! _o 1 2 3 4 5 5 78 9 m IIII:cm SERNEC Digitization Project - Tennessee Herbarium Consortium'"
      ]
     },
     "metadata": {},
     "output_type": "display_data"
    },
    {
     "data": {
      "text/plain": [
       "('54', '93')"
      ]
     },
     "metadata": {},
     "output_type": "display_data"
    },
    {
     "data": {
      "text/plain": [
       "'.) 1:51.“UNIVERSITY OF IENNESSEE KNOXVILLE(Iruum/rgnmwwouWWW!“mum i \" ‘1\" IV.\\' I. \\' ’\\\\     FLORA TENNESSIENSISNails JOHNSON COUNTYCOLLECTOR. 53: £2 ggaggwood AQI‘ , 1593.4   Tsuga canadensis (L) Carr. Shady Valley Bog.2 3 4 5 6 78 9 1o Inﬁll“cm SERNEC Digitization Project - Tennessee Herbarium Consortium'"
      ]
     },
     "metadata": {},
     "output_type": "display_data"
    },
    {
     "data": {
      "text/plain": [
       "('15', '93')"
      ]
     },
     "metadata": {},
     "output_type": "display_data"
    },
    {
     "data": {
      "text/plain": [
       "'umvmsnv or 75Ar cmxmmo’tgggsmENIM/l/IIl/l/Illllll f/II/l/Illlllll/lHI/IINI/NII/UCHT006168    TENNESSEEOverton Co.: 1 Oct 1986 R.Kral 73680Tsuga canadensis (L.) Carr.Abundant trees on sandrocky bluffs alongLittle Indian Creek by old bridge, nearHanging Limb, by Tn 164 N of Monterey. R.kralDet.:34567891°III§SERNEC Digitization Project - Tennessee Herbarium Consortium'"
      ]
     },
     "metadata": {},
     "output_type": "display_data"
    },
    {
     "data": {
      "text/plain": [
       "('19', '86')"
      ]
     },
     "metadata": {},
     "output_type": "display_data"
    },
    {
     "data": {
      "text/plain": [
       "\"UNIVERSIIY OF TENNESSEE KNOXVILLE\\\\\\\\WnNITWIENNN|1\\\\!LIWIWIW[LW1\\\\H[I|\\\\WI“INI 3 /  FLORA TENNESSIENSISNO. CAMPBELL COUNTYCOLLECTOR‘, , (TMwsA iimrs.Junea LellyTsuga canadensis (L.) Carr.Norris Dam region.Glrr o:- COLLECTOR   V ' @I ’MlLlll--------- I mgn 1 2 3 4 5 6 7 8 9 m IIIII0'“ SERNEC Digitization Project - Tennessee Herbarium Consortium\""
      ]
     },
     "metadata": {},
     "output_type": "display_data"
    },
    {
     "data": {
      "text/plain": [
       "''"
      ]
     },
     "metadata": {},
     "output_type": "display_data"
    },
    {
     "data": {
      "text/plain": [
       "\"2 3SERNEC Digitizati:n Pro]: t T 6 7 8 9 10 ‘c - ennessee Herbar' :Ium Consortium M|DDLE TENNESSEESTATE unwensnv«wwwxwWWW“4  DENDROLOGY 406Rgtherford C0P1naceae .Tsu a canadensis Carr9 . 11/26/92Eastern hem1ockDBH 9”; 20' tall\""
      ]
     },
     "metadata": {},
     "output_type": "display_data"
    },
    {
     "data": {
      "text/plain": [
       "('11', '26')"
      ]
     },
     "metadata": {},
     "output_type": "display_data"
    },
    {
     "data": {
      "text/plain": [
       "\"R IOII ‘ I II” M I 0 - I O I llSE NEC Dlgltlzat Flo eCt e essee 9 II ICmJ MIDDLE TENNESSEESTATE UNIV 3 Ty‘ mm»wmmmmnmmaﬁﬁi IIIF/rmmuMTSU000617 X.     § P/md's 0% 'rénneSSeeRMH’IzVRq-J CO‘ ’ V2?/0lPu'MceAe. d ‘ L1-5584 CWM “1515 .Eqsfem Henlock9a; 1:. {13:11 '20 S'foneb f2h/er Counjffy Club.5 V1mFJAA [I(cO'lv’le“ 5‘: 4‘\""
      ]
     },
     "metadata": {},
     "output_type": "display_data"
    },
    {
     "data": {
      "text/plain": [
       "''"
      ]
     },
     "metadata": {},
     "output_type": "display_data"
    },
    {
     "data": {
      "text/plain": [
       "'s8 9 1o lllllll- -- 6 7- 2 3 4 51o - , _MIDDLE TENNESSEESTATE umvms,IJII/II/IMIWI/l/Nﬁ/mm M mum”TSU000663'"
      ]
     },
     "metadata": {},
     "output_type": "display_data"
    },
    {
     "data": {
      "text/plain": [
       "''"
      ]
     },
     "metadata": {},
     "output_type": "display_data"
    },
    {
     "data": {
      "text/plain": [
       "\"VERSITY OF TENNESSEE KNOXVILLEIMWMW Wugmwswzwuwnu    MkV     _“ _ _V,-__.__ _. _.___. l“FLORA TENNESSIENSISCOLLECTOR. Jim WOlfe HawkinsACOUNTY_L “NO l 1630 ADI‘lJ. 16 ,9 55   Tsuga canadensis (19.) Carr.Moist woods and roadsidealong: Laurel Branch3 4 5 6' ' 10 III!SERNEC Digitization Project - Tennessee Herbarium Consonium\""
      ]
     },
     "metadata": {},
     "output_type": "display_data"
    },
    {
     "data": {
      "text/plain": [
       "('16', '30')"
      ]
     },
     "metadata": {},
     "output_type": "display_data"
    },
    {
     "data": {
      "text/plain": [
       "'thn C. Warden HerbariumEast Tennessee State University#ﬂ‘S’QFJQ\\'7EAST TE NESSW‘S TE UNIVERSITYm mm m“\\\\\\\\\\\\\\\\\\\\\\\\\\\\\\\\\\\\\\\\\\\\\\\\\\\\\\\\\\\\\\\\\\\\\\\\\\\\\\\\\\\\\\\\\\\\\\\\\\\\ “WM East Tennessee State University HerbariumPinacea {Su/A CA \"9%Frasier FirWashington County, TNESTUExact location: ETSUHabitat: woodsDescription: tree, acorns, evergreen{(JCollected by: Diana BowersCollection# 2004023 05/24/04ﬁizfmzjﬁ‘jw -. “\"ermr \\'\\\\3 4 5 6 7 s9 10 WWSERNEC Digitization Project Tenness \\',. . 7 _ _ - , ee Herbarlum Consortium l.-'"
      ]
     },
     "metadata": {},
     "output_type": "display_data"
    },
    {
     "data": {
      "text/plain": [
       "''"
      ]
     },
     "metadata": {},
     "output_type": "display_data"
    },
    {
     "data": {
      "text/plain": [
       "'8 9    mum- ---- -0 1 2 3 4 5 6 7 _ 31113un Wx1111\\\\1\\\\111\\\\\\\\\\\\\\\\suo 641006‘\\\\1MT\\\\11\\\\ \\\\\\\\ \\\\    Trees Found in TennesseeDavison CO 10/12/05PinaceaeTsuga Canadensis Linnaeu;Hemlock15 ftta11,4 in DBHF ound 30 ft south of bridge over small streamon northem side ofhouse by magnolian:nl, Vémnnnl ii I'"
      ]
     },
     "metadata": {},
     "output_type": "display_data"
    },
    {
     "data": {
      "text/plain": [
       "''"
      ]
     },
     "metadata": {},
     "output_type": "display_data"
    },
    {
     "data": {
      "text/plain": [
       "\"PLANTS OF TENNESSEEPinacaceaeTsuga canadensis (L.) CarriereUnited States: Tennessee: Putman County: Found in front of Matthews-DanielsBuilding on Tennessee Tech. University, Cookeville Tn. Grassy Area with side walkbeside the tree.Latitude: 36.101900000000001 Longitude: 85.301299999999998. Elevation: 1019Feet.Tree is aprox. 50 feet tall. Grassy area beside the Campus Police Building.Collected by: JT Thurman #20 with Josh Daugherty on 12 June 2014.Identiﬁed by: 11‘ ’l‘hurman.TENNESSEE TECH UNIVERSI'I‘Y H ERBARIUM (HTTU)1PM IINIUFRQITV‘mmmmmmmw1w‘uMHIIU0186942 3 4 5 6 7 8 9 10SERNEC Digitization Project - Tennessee Herbarium Consortium\""
      ]
     },
     "metadata": {},
     "output_type": "display_data"
    },
    {
     "data": {
      "text/plain": [
       "('36.1019', '85.3013')"
      ]
     },
     "metadata": {},
     "output_type": "display_data"
    },
    {
     "data": {
      "text/plain": [
       "'Ill W! W! WI!UNIVEHill’TY OF TENNESSEE KN?) VILLEmmuw/y (mm; IIH/ll/IIIMIHI/ 1/? 1mNN-V-OO15469 ‘ {y ~;;:\\\\1\\'!\\\\) A .9* \\\\ ‘VVlr 4’32» f; \\\\”5/ I t J I U4! - ; _ ”wan. m_- UU ¥ﬁ=“*“ n{3. /.\\\\ C:;\\\\_ \"1 ‘. ‘4.. \\\\- x r»~~ ﬂ) \\\\\"w- \\' .q.‘.1..- _ -m..-_, v.“. ___._.-- - -FLDRA TENNESSIENSIST R E o Shanks -___RoanecoumTYCOLLEC OR, o fg ( . . v 50l NO, 206 3 1 Ma. 19  Tsuga canadensis (L.) Carr.volunteer in oak-pine woods,valley of Melton Cr-eek onOak Ridge Reservatlon         LmLmI-I§-_ , _o 1 2 3 4 5 5 7 3 9 1cm0 IﬂlldlSERNEC Digitization Project - Tennessee Herbarium Consortium'"
      ]
     },
     "metadata": {},
     "output_type": "display_data"
    },
    {
     "data": {
      "text/plain": [
       "''"
      ]
     },
     "metadata": {},
     "output_type": "display_data"
    },
    {
     "data": {
      "text/plain": [
       "'HerbariumTennessee Technological UniversityPlants of Putnam County, TennesseeHERBARIUM Tsuga Eanadensis (14.) Carr76 58 ., Verble Hollow, two rules east of Monterey.TENNESSESlefgﬁeLOGICAL Woods . Pinac eae . Hemlock .EE TECHNOLOGICAL UNIVERSITYTIIEIHINIWISINHHIIUIIUINNIIIOIHJIHJIJIIIHMill!HTTUOO2 3 4 5 8 9SERNEC Digitization Project - Tennessee Herbarium Consortium'"
      ]
     },
     "metadata": {},
     "output_type": "display_data"
    },
    {
     "data": {
      "text/plain": [
       "('76', '58')"
      ]
     },
     "metadata": {},
     "output_type": "display_data"
    },
    {
     "data": {
      "text/plain": [
       "\"UNIVERSITY OF IENNESSEE KN XVIL Euw“Wlmmummﬂrﬂuw FLORA TENNESSIENSISNo CAMPBELL COUNTYCOLLECTOR. J MLlQISSJMm: - .Tunea KellvGIFT OF COLLECTORTsuga canadensis (L.) Carr.Norris Dam region.Gift of Mrs. Junea Kelly.' MM_m-l-_-!-_-_-o 1 2 3 4 5 5 7 V 8 9 1cm0SERNEC Digitization Project - Tennessee Herbarium Consortium\""
      ]
     },
     "metadata": {},
     "output_type": "display_data"
    },
    {
     "data": {
      "text/plain": [
       "''"
      ]
     },
     "metadata": {},
     "output_type": "display_data"
    },
    {
     "data": {
      "text/plain": [
       "\"\\\\UNN RSlTY 0F TENNE SEE KNOXVlLLE\\\\\\\\\\\\\\\\\\\\\\\\\\\\\\\\\\\\\\\\\\\\\\\\\\\\\\\\\\\\\\\\\\\\N\\\\\\\\E\\\\\\\\\\\\:\\\\\\\\\\\\WWA\\\\EWM\\\\\\\\L .mIhe Her f f h ' ' f P laha lum I' yt e U I e slt o ennsylo n V VanPLA \\\\x-NTs OF PENNSYLVANIABerks COuntyMTsugs. canadensis (L.) CarrWOOds, 3 mi. north of ECKVR.L. ILLESchaeffer, Jr. 2732 J 1;111.? . 1939mum -- k _,-- m-!-----2 3 4 5 7 ‘ 8 910\""
      ]
     },
     "metadata": {},
     "output_type": "display_data"
    },
    {
     "data": {
      "text/plain": [
       "''"
      ]
     },
     "metadata": {},
     "output_type": "display_data"
    },
    {
     "data": {
      "text/plain": [
       "'RHODES COLLEGEllllﬂllllllﬂllﬂliﬂlﬂilollﬂj|jHﬂiﬂHllllHlHlll      . L. C .Namelzkéwg {igﬂﬂénsr\\'f 1)“,quRegion memhAB /. 7: ..Habitat I Ola 6-7247 ‘Date 5! ‘ j 7 ‘ :Collectorjmes /‘ Grave;Locality {    . .“ﬁ 3;,W. 7 \" m ,n\"“’_\"\\'o 1 2 3 4 5 6 7 8 9 1 o EIII-cm SERNEC Digitization Project -.Tennessee Herbarium Consortium'"
      ]
     },
     "metadata": {},
     "output_type": "display_data"
    },
    {
     "data": {
      "text/plain": [
       "('72', '47')"
      ]
     },
     "metadata": {},
     "output_type": "display_data"
    },
    {
     "data": {
      "text/plain": [
       "'9 10- l ortium$1431ng 01‘ MIDDLE TENNESSEESTATE UNIVERSITYHlllllH/HllHIJIIIWIIIIIIHIIWIIHIIUIIIWHIWIIJMTSU000669v } a Q:Rutherford Co. hovemver 1,, 1, 3linaceae . l‘ \\\\ ﬂTsuga canadGUSLS \\\\u.) 9Eastern hemlock; Canada\"1“ qk“ \\' ‘ .‘ J. q ‘1 f‘Va. 4.3 ft. in diamepel, V?.W u .tall. Lediun~sized tree Wltn pen-dulous branches and pubescent blets, growing besides 3 1p4.I§.... ;‘Fge v51*ehouse. 1000 gas; Lain street.-1 i,}John L. :nee [L4.1m'"
      ]
     },
     "metadata": {},
     "output_type": "display_data"
    },
    {
     "data": {
      "text/plain": [
       "('10', '0')"
      ]
     },
     "metadata": {},
     "output_type": "display_data"
    },
    {
     "data": {
      "text/plain": [
       "'EASTTENNESSEESTAIEUNWERSHYlHIINWIIIIWllNlUﬂlMlmﬂlﬂHﬂl\"ll!Ill!\\\\lllETSU  //\"Plants of Tennesseensstern HemlockDINAK ‘E\\\\ OTsuga cana‘densmBarry Bentley, 224 July 1983Hawkins Co. Church Hill, Tn.DetzBarry N. Bentley4 6 7 8 9 10SERNEQ Digitizgtion Projgct - Tennessee Herbarium Consortium'"
      ]
     },
     "metadata": {},
     "output_type": "display_data"
    },
    {
     "data": {
      "text/plain": [
       "('19', '83')"
      ]
     },
     "metadata": {},
     "output_type": "display_data"
    },
    {
     "data": {
      "text/plain": [
       "'EAST TENNESSEE STATE UNIVEHImmumuammwmmummy:unﬁt\"ETSUOO.IJfDooL-QJM 3.30.54 2015PLANTS OF NE TENNEESSEEEast Tennessee State University HerbariumTsuga anadensis (L.) Carr.PinaceaeEastern HemlockSullivan County R04\"; ? “15¢ fw132 Windmere PI. Kingsport, TN 37664Front yard, down the driveway 20 paces to the left inthe woods 5 metersN am +0.th Shady area418 metersN 365063390, W -82.5382789Dark green needles closer to the main stem, lightgreen needles at the tips, about 6m in height, smallcones are light green, smaller cones light brownTennessee Flora Committee. Guide to the VascularPlants of TN. lst ed. Knoxville: U of Tennessee, 2015.Hannah Haworth#15 date: 5/24/20155 6 7 9 10SERNEtE Digitization Project - Tennessee Herbarium Consortium'"
      ]
     },
     "metadata": {},
     "output_type": "display_data"
    },
    {
     "data": {
      "text/plain": [
       "''"
      ]
     },
     "metadata": {},
     "output_type": "display_data"
    },
    {
     "data": {
      "text/plain": [
       "'EAST TENNESSEE STATE UNNERSHY 30 8 (a\\\\\\\\\\\\\\\\\\\\\\\\\\\\\\\\\\\\\\\\\\\\\\\\\\\\\\\\\\\\\\\\\\\\\\\\\\\\\\\\\\\\\\\\\\\\\\\\\\\\\\\\\\\\\\\\\\\\\\\\\\\\\\\\\\\\\\\\\\\\\\\\\\\\\\\\\\\\\\\\\\\\\\\\\\\\\\\\\\\\\\\\\\\\\\\\\\\\\\\\\\\\\\\\\\\\\\\\\\\\\\\\\\\\ 4:;\\\\ETSU001294 \"“3.h‘ PLANTS OF TennesseeI‘}I\\'undy 00.: 2 May 1\"}?72 f}. Cronscnllin 1591Tsugxa canadensis (I...) Carro”mmdy State Forest; deep gorr’tes: nearStinkinp Creek and Fir‘ev ”zizzar‘d River\"D .. 3near ‘l‘racy City.4 5 6 7 8 9 10SERNEC Digitiziation Project - Tennessee Herbarium Consortium'"
      ]
     },
     "metadata": {},
     "output_type": "display_data"
    },
    {
     "data": {
      "text/plain": [
       "('15', '91')"
      ]
     },
     "metadata": {},
     "output_type": "display_data"
    }
   ],
   "source": [
    "df = df[df['verbatimCoordinates'].notna()]\n",
    "for index,row in df.iterrows():\n",
    "    display(row['rawOCR'].replace('\\n', ''))\n",
    "    display(row['verbatimCoordinates'])"
   ]
  },
  {
   "cell_type": "code",
   "execution_count": 7,
   "metadata": {},
   "outputs": [],
   "source": [
    "testLocations = ['35-27-37N/ 85-29-12W',\n",
    " 'Latitude: 26.055250000000001 Longitude: -85.524979999999999',\n",
    " '36.1048097000, -85.8121487000145.0',\n",
    " '36.145595°N, -82.847194°W',\n",
    " '36.448462° N -83.566273° W',\n",
    " '35.14346°, -89.82969°',\n",
    " '''6°26'01 N 86°31'22\" W''',\n",
    " '''36 32'20\" N; 84 43' 45\" W''',\n",
    " '''36° 12' 35\" N by 83° 02' 00\" W''',\n",
    " 'N, 85-06-00w',\n",
    " '35.222310 -85.2227',\n",
    " '35.14346°, -89.82969°',\n",
    " \"N 35° 03. 801' W 085° 23. 755'\",\n",
    " '''36.21'51.55\"N 84.16'03.43\"W''',\n",
    " \"N 35°6.27' W 085°22.1'\",\n",
    " '35.267824* -89.263256*',\n",
    " '36.105 N, -85.812 W',\n",
    " '36.1048097000, -85.8121487000145.0',\n",
    " '36.000 N, -85.666 W',\n",
    " '''35* 55' 15\"N, 82*57'40\"W''',\n",
    " '35.58247°, -90.65597°',\n",
    " '''35°1'36.7386\", W 85°19'0.804''',\n",
    " '36.145595° N -82.847194° W',\n",
    " '''36 23'30\" N; 84 37'45\" W.''',\n",
    " '''035° 45' 10\" North Latitude, 083° 12' 35\"''',\n",
    " '35.63451° Latitude -83.47026° Longitutde',\n",
    " '36.0597° North Latitude, -085.79128° West Longitude',\n",
    " '''35-01-55 N  86-11-34 W''',\n",
    " '''36°13'08.0\"N 85°30'06.8\"W''',\n",
    " 'Latitude: 36.17 Longitude: -85.53',\n",
    " 'Latitude: 35 11 22.06 Longitude: 85 52 56.13',\n",
    " 'Latitude: 26.055250000000001 Longitude: -85.524979999999999',\n",
    " '36-39-30N, 85-14-20W',\n",
    " '''longitude 85 44'30\" latitude 35 00'30\".''',\n",
    " '35.14346°, -89.82969°',\n",
    "'''33° 47' 53.000\"N, 84° 18' 56.000\"W. 880 feet.''',\n",
    "\"Latitude: 36.17294 Longitude: —85.50482.\"]\n"
   ]
  },
  {
   "cell_type": "code",
   "execution_count": 8,
   "metadata": {
    "scrolled": false
   },
   "outputs": [
    {
     "data": {
      "text/plain": [
       "'string : Latitude: 36.17294 Longitude: -85.50482.'"
      ]
     },
     "metadata": {},
     "output_type": "display_data"
    },
    {
     "data": {
      "text/plain": [
       "\"results : ('36.17294', '-85.50482')\""
      ]
     },
     "metadata": {},
     "output_type": "display_data"
    },
    {
     "name": "stdout",
     "output_type": "stream",
     "text": [
      "\n",
      "\n"
     ]
    },
    {
     "data": {
      "text/plain": [
       "'string : longitude 85 44\\'30\" latitude 35 00\\'30\".'"
      ]
     },
     "metadata": {},
     "output_type": "display_data"
    },
    {
     "data": {
      "text/plain": [
       "'results : None'"
      ]
     },
     "metadata": {},
     "output_type": "display_data"
    },
    {
     "name": "stdout",
     "output_type": "stream",
     "text": [
      "\n",
      "\n"
     ]
    },
    {
     "data": {
      "text/plain": [
       "'string : Latitude: 35 11 22.06 Longitude: 85 52 56.13'"
      ]
     },
     "metadata": {},
     "output_type": "display_data"
    },
    {
     "data": {
      "text/plain": [
       "'results : None'"
      ]
     },
     "metadata": {},
     "output_type": "display_data"
    },
    {
     "name": "stdout",
     "output_type": "stream",
     "text": [
      "\n",
      "\n"
     ]
    },
    {
     "data": {
      "text/plain": [
       "'string : 35-01-55 N  86-11-34 W'"
      ]
     },
     "metadata": {},
     "output_type": "display_data"
    },
    {
     "data": {
      "text/plain": [
       "\"results : ('1.917', '86.183')\""
      ]
     },
     "metadata": {},
     "output_type": "display_data"
    },
    {
     "name": "stdout",
     "output_type": "stream",
     "text": [
      "\n",
      "\n"
     ]
    },
    {
     "data": {
      "text/plain": [
       "'string : 035° 45\\' 10\" North Latitude, 083° 12\\' 35\"'"
      ]
     },
     "metadata": {},
     "output_type": "display_data"
    },
    {
     "data": {
      "text/plain": [
       "'results : None'"
      ]
     },
     "metadata": {},
     "output_type": "display_data"
    },
    {
     "name": "stdout",
     "output_type": "stream",
     "text": [
      "\n",
      "\n"
     ]
    },
    {
     "data": {
      "text/plain": [
       "'string : 35°1\\'36.7386\", W 85°19\\'0.804'"
      ]
     },
     "metadata": {},
     "output_type": "display_data"
    },
    {
     "data": {
      "text/plain": [
       "\"results : ('35.026861', '38.100000')\""
      ]
     },
     "metadata": {},
     "output_type": "display_data"
    },
    {
     "name": "stdout",
     "output_type": "stream",
     "text": [
      "\n",
      "\n"
     ]
    },
    {
     "data": {
      "text/plain": [
       "'string : 36.000 N, -85.666 W'"
      ]
     },
     "metadata": {},
     "output_type": "display_data"
    },
    {
     "data": {
      "text/plain": [
       "\"results : ('36.0', '-85.666')\""
      ]
     },
     "metadata": {},
     "output_type": "display_data"
    },
    {
     "name": "stdout",
     "output_type": "stream",
     "text": [
      "\n",
      "\n"
     ]
    },
    {
     "data": {
      "text/plain": [
       "'string : 35.267824* -89.263256*'"
      ]
     },
     "metadata": {},
     "output_type": "display_data"
    },
    {
     "data": {
      "text/plain": [
       "\"results : ('35.267824', '-89.263256')\""
      ]
     },
     "metadata": {},
     "output_type": "display_data"
    },
    {
     "name": "stdout",
     "output_type": "stream",
     "text": [
      "\n",
      "\n"
     ]
    },
    {
     "data": {
      "text/plain": [
       "\"string : N 35° 03. 801' W 085° 23. 755'\""
      ]
     },
     "metadata": {},
     "output_type": "display_data"
    },
    {
     "data": {
      "text/plain": [
       "\"results : ('35.000833', '80.016667')\""
      ]
     },
     "metadata": {},
     "output_type": "display_data"
    },
    {
     "name": "stdout",
     "output_type": "stream",
     "text": [
      "\n",
      "\n"
     ]
    },
    {
     "data": {
      "text/plain": [
       "'string : N, 85-06-00w'"
      ]
     },
     "metadata": {},
     "output_type": "display_data"
    },
    {
     "data": {
      "text/plain": [
       "'results : None'"
      ]
     },
     "metadata": {},
     "output_type": "display_data"
    },
    {
     "name": "stdout",
     "output_type": "stream",
     "text": [
      "\n",
      "\n"
     ]
    },
    {
     "data": {
      "text/plain": [
       "'string : 6°26\\'01 N 86°31\\'22\" W'"
      ]
     },
     "metadata": {},
     "output_type": "display_data"
    },
    {
     "data": {
      "text/plain": [
       "\"results : ('1', '86')\""
      ]
     },
     "metadata": {},
     "output_type": "display_data"
    },
    {
     "name": "stdout",
     "output_type": "stream",
     "text": [
      "\n",
      "\n"
     ]
    },
    {
     "data": {
      "text/plain": [
       "'string : 36.145595°N, -82.847194°W'"
      ]
     },
     "metadata": {},
     "output_type": "display_data"
    },
    {
     "data": {
      "text/plain": [
       "\"results : ('36.145595', '-82.847194')\""
      ]
     },
     "metadata": {},
     "output_type": "display_data"
    },
    {
     "name": "stdout",
     "output_type": "stream",
     "text": [
      "\n",
      "\n"
     ]
    },
    {
     "data": {
      "text/plain": [
       "'string : 35-27-37N/ 85-29-12W'"
      ]
     },
     "metadata": {},
     "output_type": "display_data"
    },
    {
     "data": {
      "text/plain": [
       "\"results : ('27.617', '85.483')\""
      ]
     },
     "metadata": {},
     "output_type": "display_data"
    },
    {
     "name": "stdout",
     "output_type": "stream",
     "text": [
      "\n",
      "\n"
     ]
    }
   ],
   "source": [
    "for location in testLocations[::-3]:\n",
    "    for key,val in replacements.items():\n",
    "        location = location.replace(key,val)\n",
    "    result = parseGPS(location)    \n",
    "    display('string : {}'.format(location))\n",
    "    display('results : {}'.format(result))\n",
    "    print('\\n')"
   ]
  },
  {
   "cell_type": "code",
   "execution_count": null,
   "metadata": {},
   "outputs": [],
   "source": []
  }
 ],
 "metadata": {
  "kernelspec": {
   "display_name": "Python 3",
   "language": "python",
   "name": "python3"
  },
  "language_info": {
   "codemirror_mode": {
    "name": "ipython",
    "version": 3
   },
   "file_extension": ".py",
   "mimetype": "text/x-python",
   "name": "python",
   "nbconvert_exporter": "python",
   "pygments_lexer": "ipython3",
   "version": "3.8.1"
  }
 },
 "nbformat": 4,
 "nbformat_minor": 2
}
